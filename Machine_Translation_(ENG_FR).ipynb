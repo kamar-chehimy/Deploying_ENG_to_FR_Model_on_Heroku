{
  "cells": [
    {
      "cell_type": "markdown",
      "source": [
        "##Machine Translation Using a Seq2Seq Architecture\n",
        "\n",
        "---\n",
        "We will be working on machine translation problem where we would have a sentence as input (in english), and the output is gonna be the translated sentence (in french). So just like what happens with Google Translate.\n"
      ],
      "metadata": {
        "id": "xiC75uo6u_Of"
      }
    },
    {
      "cell_type": "markdown",
      "source": [
        "**Just to give you a heads up:** We won't be having a model performing like Google translate, but at least we will have an idea about how Google Translate works and the challenges that exist with a translation problem.  "
      ],
      "metadata": {
        "id": "TeK4LPupvg_c"
      }
    },
    {
      "cell_type": "markdown",
      "source": [
        "## Importing Libraries"
      ],
      "metadata": {
        "id": "SBTvDTzBv293"
      }
    },
    {
      "cell_type": "markdown",
      "source": [
        "We start by importing numpy and pandas and then we can add the rest"
      ],
      "metadata": {
        "id": "4_j1ZzS3v6N3"
      }
    },
    {
      "cell_type": "code",
      "execution_count": null,
      "metadata": {
        "id": "n0IARXAX1e1m"
      },
      "outputs": [],
      "source": [
        "import pandas as pd\n",
        "import numpy as np"
      ]
    },
    {
      "cell_type": "markdown",
      "source": [
        "We clone the github repository where our data exists. Here is the github link: https://github.com/zaka-ai/machine_learning_certification/tree/main/Challenge%207 "
      ],
      "metadata": {
        "id": "vAcLqZ7uv-SJ"
      }
    },
    {
      "cell_type": "markdown",
      "source": [
        "## Getting the data"
      ],
      "metadata": {
        "id": "i3hLN42axOjn"
      }
    },
    {
      "cell_type": "code",
      "source": [
        "#Test Your Zaka\n",
        "!git clone https://github.com/zaka-ai/machine_learning_certification\n",
        "\n",
        "# change working directory\n",
        "#\n",
        "%cd machine_learning_certification/Challenge 7"
      ],
      "metadata": {
        "id": "0-M7cFxTPpqy",
        "colab": {
          "base_uri": "https://localhost:8080/"
        },
        "outputId": "a4b650d2-23fe-490d-d37a-7f8acd7bff72"
      },
      "execution_count": null,
      "outputs": [
        {
          "output_type": "stream",
          "name": "stdout",
          "text": [
            "Cloning into 'machine_learning_certification'...\n",
            "remote: Enumerating objects: 43, done.\u001b[K\n",
            "remote: Counting objects: 100% (43/43), done.\u001b[K\n",
            "remote: Compressing objects: 100% (39/39), done.\u001b[K\n",
            "remote: Total 43 (delta 10), reused 10 (delta 1), pack-reused 0\u001b[K\n",
            "Unpacking objects: 100% (43/43), done.\n",
            "/content/machine_learning_certification/Challenge 7/machine_learning_certification/Challenge 7\n"
          ]
        }
      ]
    },
    {
      "cell_type": "markdown",
      "source": [
        "We read the english sentences in a dataframe named \"english\", and the french sentences in a dataframe named \"french\""
      ],
      "metadata": {
        "id": "BaPr0N8cwGAv"
      }
    },
    {
      "cell_type": "code",
      "execution_count": null,
      "metadata": {
        "id": "kFj8gkP01lGT",
        "colab": {
          "base_uri": "https://localhost:8080/",
          "height": 206
        },
        "outputId": "d41ee1d1-4206-4fc3-f0f8-7362b0703175"
      },
      "outputs": [
        {
          "output_type": "execute_result",
          "data": {
            "text/plain": [
              "                                             English\n",
              "0  new jersey is sometimes quiet during autumn , ...\n",
              "1  the united states is usually chilly during jul...\n",
              "2  california is usually quiet during march , and...\n",
              "3  the united states is sometimes mild during jun...\n",
              "4  your least liked fruit is the grape , but my l..."
            ],
            "text/html": [
              "\n",
              "  <div id=\"df-3a99caa2-e52e-4f17-ba1f-1f82938c4e3e\">\n",
              "    <div class=\"colab-df-container\">\n",
              "      <div>\n",
              "<style scoped>\n",
              "    .dataframe tbody tr th:only-of-type {\n",
              "        vertical-align: middle;\n",
              "    }\n",
              "\n",
              "    .dataframe tbody tr th {\n",
              "        vertical-align: top;\n",
              "    }\n",
              "\n",
              "    .dataframe thead th {\n",
              "        text-align: right;\n",
              "    }\n",
              "</style>\n",
              "<table border=\"1\" class=\"dataframe\">\n",
              "  <thead>\n",
              "    <tr style=\"text-align: right;\">\n",
              "      <th></th>\n",
              "      <th>English</th>\n",
              "    </tr>\n",
              "  </thead>\n",
              "  <tbody>\n",
              "    <tr>\n",
              "      <th>0</th>\n",
              "      <td>new jersey is sometimes quiet during autumn , ...</td>\n",
              "    </tr>\n",
              "    <tr>\n",
              "      <th>1</th>\n",
              "      <td>the united states is usually chilly during jul...</td>\n",
              "    </tr>\n",
              "    <tr>\n",
              "      <th>2</th>\n",
              "      <td>california is usually quiet during march , and...</td>\n",
              "    </tr>\n",
              "    <tr>\n",
              "      <th>3</th>\n",
              "      <td>the united states is sometimes mild during jun...</td>\n",
              "    </tr>\n",
              "    <tr>\n",
              "      <th>4</th>\n",
              "      <td>your least liked fruit is the grape , but my l...</td>\n",
              "    </tr>\n",
              "  </tbody>\n",
              "</table>\n",
              "</div>\n",
              "      <button class=\"colab-df-convert\" onclick=\"convertToInteractive('df-3a99caa2-e52e-4f17-ba1f-1f82938c4e3e')\"\n",
              "              title=\"Convert this dataframe to an interactive table.\"\n",
              "              style=\"display:none;\">\n",
              "        \n",
              "  <svg xmlns=\"http://www.w3.org/2000/svg\" height=\"24px\"viewBox=\"0 0 24 24\"\n",
              "       width=\"24px\">\n",
              "    <path d=\"M0 0h24v24H0V0z\" fill=\"none\"/>\n",
              "    <path d=\"M18.56 5.44l.94 2.06.94-2.06 2.06-.94-2.06-.94-.94-2.06-.94 2.06-2.06.94zm-11 1L8.5 8.5l.94-2.06 2.06-.94-2.06-.94L8.5 2.5l-.94 2.06-2.06.94zm10 10l.94 2.06.94-2.06 2.06-.94-2.06-.94-.94-2.06-.94 2.06-2.06.94z\"/><path d=\"M17.41 7.96l-1.37-1.37c-.4-.4-.92-.59-1.43-.59-.52 0-1.04.2-1.43.59L10.3 9.45l-7.72 7.72c-.78.78-.78 2.05 0 2.83L4 21.41c.39.39.9.59 1.41.59.51 0 1.02-.2 1.41-.59l7.78-7.78 2.81-2.81c.8-.78.8-2.07 0-2.86zM5.41 20L4 18.59l7.72-7.72 1.47 1.35L5.41 20z\"/>\n",
              "  </svg>\n",
              "      </button>\n",
              "      \n",
              "  <style>\n",
              "    .colab-df-container {\n",
              "      display:flex;\n",
              "      flex-wrap:wrap;\n",
              "      gap: 12px;\n",
              "    }\n",
              "\n",
              "    .colab-df-convert {\n",
              "      background-color: #E8F0FE;\n",
              "      border: none;\n",
              "      border-radius: 50%;\n",
              "      cursor: pointer;\n",
              "      display: none;\n",
              "      fill: #1967D2;\n",
              "      height: 32px;\n",
              "      padding: 0 0 0 0;\n",
              "      width: 32px;\n",
              "    }\n",
              "\n",
              "    .colab-df-convert:hover {\n",
              "      background-color: #E2EBFA;\n",
              "      box-shadow: 0px 1px 2px rgba(60, 64, 67, 0.3), 0px 1px 3px 1px rgba(60, 64, 67, 0.15);\n",
              "      fill: #174EA6;\n",
              "    }\n",
              "\n",
              "    [theme=dark] .colab-df-convert {\n",
              "      background-color: #3B4455;\n",
              "      fill: #D2E3FC;\n",
              "    }\n",
              "\n",
              "    [theme=dark] .colab-df-convert:hover {\n",
              "      background-color: #434B5C;\n",
              "      box-shadow: 0px 1px 3px 1px rgba(0, 0, 0, 0.15);\n",
              "      filter: drop-shadow(0px 1px 2px rgba(0, 0, 0, 0.3));\n",
              "      fill: #FFFFFF;\n",
              "    }\n",
              "  </style>\n",
              "\n",
              "      <script>\n",
              "        const buttonEl =\n",
              "          document.querySelector('#df-3a99caa2-e52e-4f17-ba1f-1f82938c4e3e button.colab-df-convert');\n",
              "        buttonEl.style.display =\n",
              "          google.colab.kernel.accessAllowed ? 'block' : 'none';\n",
              "\n",
              "        async function convertToInteractive(key) {\n",
              "          const element = document.querySelector('#df-3a99caa2-e52e-4f17-ba1f-1f82938c4e3e');\n",
              "          const dataTable =\n",
              "            await google.colab.kernel.invokeFunction('convertToInteractive',\n",
              "                                                     [key], {});\n",
              "          if (!dataTable) return;\n",
              "\n",
              "          const docLinkHtml = 'Like what you see? Visit the ' +\n",
              "            '<a target=\"_blank\" href=https://colab.research.google.com/notebooks/data_table.ipynb>data table notebook</a>'\n",
              "            + ' to learn more about interactive tables.';\n",
              "          element.innerHTML = '';\n",
              "          dataTable['output_type'] = 'display_data';\n",
              "          await google.colab.output.renderOutput(dataTable, element);\n",
              "          const docLink = document.createElement('div');\n",
              "          docLink.innerHTML = docLinkHtml;\n",
              "          element.appendChild(docLink);\n",
              "        }\n",
              "      </script>\n",
              "    </div>\n",
              "  </div>\n",
              "  "
            ]
          },
          "metadata": {},
          "execution_count": 77
        }
      ],
      "source": [
        "#Test Your Zaka (English)\n",
        "english=pd.read_csv('en.csv',names=['English'])\n",
        "english.head()"
      ]
    },
    {
      "cell_type": "code",
      "execution_count": null,
      "metadata": {
        "id": "P4A7ZKt32A7s",
        "colab": {
          "base_uri": "https://localhost:8080/",
          "height": 206
        },
        "outputId": "5011fa19-f21a-4f7c-ee99-e74a19a604d5"
      },
      "outputs": [
        {
          "output_type": "execute_result",
          "data": {
            "text/plain": [
              "                                              French\n",
              "0  new jersey est parfois calme pendant l' automn...\n",
              "1  les états-unis est généralement froid en juill...\n",
              "2  california est généralement calme en mars , et...\n",
              "3  les états-unis est parfois légère en juin , et...\n",
              "4  votre moins aimé fruit est le raisin , mais mo..."
            ],
            "text/html": [
              "\n",
              "  <div id=\"df-8886e4fa-3081-4444-8482-80ffab8bf0df\">\n",
              "    <div class=\"colab-df-container\">\n",
              "      <div>\n",
              "<style scoped>\n",
              "    .dataframe tbody tr th:only-of-type {\n",
              "        vertical-align: middle;\n",
              "    }\n",
              "\n",
              "    .dataframe tbody tr th {\n",
              "        vertical-align: top;\n",
              "    }\n",
              "\n",
              "    .dataframe thead th {\n",
              "        text-align: right;\n",
              "    }\n",
              "</style>\n",
              "<table border=\"1\" class=\"dataframe\">\n",
              "  <thead>\n",
              "    <tr style=\"text-align: right;\">\n",
              "      <th></th>\n",
              "      <th>French</th>\n",
              "    </tr>\n",
              "  </thead>\n",
              "  <tbody>\n",
              "    <tr>\n",
              "      <th>0</th>\n",
              "      <td>new jersey est parfois calme pendant l' automn...</td>\n",
              "    </tr>\n",
              "    <tr>\n",
              "      <th>1</th>\n",
              "      <td>les états-unis est généralement froid en juill...</td>\n",
              "    </tr>\n",
              "    <tr>\n",
              "      <th>2</th>\n",
              "      <td>california est généralement calme en mars , et...</td>\n",
              "    </tr>\n",
              "    <tr>\n",
              "      <th>3</th>\n",
              "      <td>les états-unis est parfois légère en juin , et...</td>\n",
              "    </tr>\n",
              "    <tr>\n",
              "      <th>4</th>\n",
              "      <td>votre moins aimé fruit est le raisin , mais mo...</td>\n",
              "    </tr>\n",
              "  </tbody>\n",
              "</table>\n",
              "</div>\n",
              "      <button class=\"colab-df-convert\" onclick=\"convertToInteractive('df-8886e4fa-3081-4444-8482-80ffab8bf0df')\"\n",
              "              title=\"Convert this dataframe to an interactive table.\"\n",
              "              style=\"display:none;\">\n",
              "        \n",
              "  <svg xmlns=\"http://www.w3.org/2000/svg\" height=\"24px\"viewBox=\"0 0 24 24\"\n",
              "       width=\"24px\">\n",
              "    <path d=\"M0 0h24v24H0V0z\" fill=\"none\"/>\n",
              "    <path d=\"M18.56 5.44l.94 2.06.94-2.06 2.06-.94-2.06-.94-.94-2.06-.94 2.06-2.06.94zm-11 1L8.5 8.5l.94-2.06 2.06-.94-2.06-.94L8.5 2.5l-.94 2.06-2.06.94zm10 10l.94 2.06.94-2.06 2.06-.94-2.06-.94-.94-2.06-.94 2.06-2.06.94z\"/><path d=\"M17.41 7.96l-1.37-1.37c-.4-.4-.92-.59-1.43-.59-.52 0-1.04.2-1.43.59L10.3 9.45l-7.72 7.72c-.78.78-.78 2.05 0 2.83L4 21.41c.39.39.9.59 1.41.59.51 0 1.02-.2 1.41-.59l7.78-7.78 2.81-2.81c.8-.78.8-2.07 0-2.86zM5.41 20L4 18.59l7.72-7.72 1.47 1.35L5.41 20z\"/>\n",
              "  </svg>\n",
              "      </button>\n",
              "      \n",
              "  <style>\n",
              "    .colab-df-container {\n",
              "      display:flex;\n",
              "      flex-wrap:wrap;\n",
              "      gap: 12px;\n",
              "    }\n",
              "\n",
              "    .colab-df-convert {\n",
              "      background-color: #E8F0FE;\n",
              "      border: none;\n",
              "      border-radius: 50%;\n",
              "      cursor: pointer;\n",
              "      display: none;\n",
              "      fill: #1967D2;\n",
              "      height: 32px;\n",
              "      padding: 0 0 0 0;\n",
              "      width: 32px;\n",
              "    }\n",
              "\n",
              "    .colab-df-convert:hover {\n",
              "      background-color: #E2EBFA;\n",
              "      box-shadow: 0px 1px 2px rgba(60, 64, 67, 0.3), 0px 1px 3px 1px rgba(60, 64, 67, 0.15);\n",
              "      fill: #174EA6;\n",
              "    }\n",
              "\n",
              "    [theme=dark] .colab-df-convert {\n",
              "      background-color: #3B4455;\n",
              "      fill: #D2E3FC;\n",
              "    }\n",
              "\n",
              "    [theme=dark] .colab-df-convert:hover {\n",
              "      background-color: #434B5C;\n",
              "      box-shadow: 0px 1px 3px 1px rgba(0, 0, 0, 0.15);\n",
              "      filter: drop-shadow(0px 1px 2px rgba(0, 0, 0, 0.3));\n",
              "      fill: #FFFFFF;\n",
              "    }\n",
              "  </style>\n",
              "\n",
              "      <script>\n",
              "        const buttonEl =\n",
              "          document.querySelector('#df-8886e4fa-3081-4444-8482-80ffab8bf0df button.colab-df-convert');\n",
              "        buttonEl.style.display =\n",
              "          google.colab.kernel.accessAllowed ? 'block' : 'none';\n",
              "\n",
              "        async function convertToInteractive(key) {\n",
              "          const element = document.querySelector('#df-8886e4fa-3081-4444-8482-80ffab8bf0df');\n",
              "          const dataTable =\n",
              "            await google.colab.kernel.invokeFunction('convertToInteractive',\n",
              "                                                     [key], {});\n",
              "          if (!dataTable) return;\n",
              "\n",
              "          const docLinkHtml = 'Like what you see? Visit the ' +\n",
              "            '<a target=\"_blank\" href=https://colab.research.google.com/notebooks/data_table.ipynb>data table notebook</a>'\n",
              "            + ' to learn more about interactive tables.';\n",
              "          element.innerHTML = '';\n",
              "          dataTable['output_type'] = 'display_data';\n",
              "          await google.colab.output.renderOutput(dataTable, element);\n",
              "          const docLink = document.createElement('div');\n",
              "          docLink.innerHTML = docLinkHtml;\n",
              "          element.appendChild(docLink);\n",
              "        }\n",
              "      </script>\n",
              "    </div>\n",
              "  </div>\n",
              "  "
            ]
          },
          "metadata": {},
          "execution_count": 78
        }
      ],
      "source": [
        "#Test Your Zaka (French)\n",
        "french=pd.read_csv('fr.csv',names=['French'])\n",
        "french.head()"
      ]
    },
    {
      "cell_type": "markdown",
      "source": [
        "**How many sentences does each of the files contain?**"
      ],
      "metadata": {
        "id": "jr8OO1OhwSp4"
      }
    },
    {
      "cell_type": "code",
      "execution_count": null,
      "metadata": {
        "id": "XhWJP-b02HKq",
        "colab": {
          "base_uri": "https://localhost:8080/"
        },
        "outputId": "8ae95f06-31a4-45d9-f69b-971cd8612d18"
      },
      "outputs": [
        {
          "output_type": "stream",
          "name": "stdout",
          "text": [
            "English file contains 137860 sentence\n",
            "French file contains 137860 sentence\n"
          ]
        }
      ],
      "source": [
        "#Test Your Zaka\n",
        "eng_length=english.shape[0]\n",
        "fr_length=french.shape[0]\n",
        "\n",
        "print(f\"English file contains {eng_length} sentence\")\n",
        "print(f\"French file contains {fr_length} sentence\")"
      ]
    },
    {
      "cell_type": "markdown",
      "source": [
        "Now let us concatenate the 2 dataframes into one dataframe that we call **df** where one column has the english senetnces and the other has the french sentences"
      ],
      "metadata": {
        "id": "ITGJN5tIwkDO"
      }
    },
    {
      "cell_type": "code",
      "execution_count": null,
      "metadata": {
        "id": "-ZXxahsB2njn",
        "colab": {
          "base_uri": "https://localhost:8080/",
          "height": 206
        },
        "outputId": "a0fbca78-cf70-4912-d756-c7a7a22807dd"
      },
      "outputs": [
        {
          "output_type": "execute_result",
          "data": {
            "text/plain": [
              "                                             English  \\\n",
              "0  new jersey is sometimes quiet during autumn , ...   \n",
              "1  the united states is usually chilly during jul...   \n",
              "2  california is usually quiet during march , and...   \n",
              "3  the united states is sometimes mild during jun...   \n",
              "4  your least liked fruit is the grape , but my l...   \n",
              "\n",
              "                                              French  \n",
              "0  new jersey est parfois calme pendant l' automn...  \n",
              "1  les états-unis est généralement froid en juill...  \n",
              "2  california est généralement calme en mars , et...  \n",
              "3  les états-unis est parfois légère en juin , et...  \n",
              "4  votre moins aimé fruit est le raisin , mais mo...  "
            ],
            "text/html": [
              "\n",
              "  <div id=\"df-baa3756c-497a-4f03-9492-29c088e99c8c\">\n",
              "    <div class=\"colab-df-container\">\n",
              "      <div>\n",
              "<style scoped>\n",
              "    .dataframe tbody tr th:only-of-type {\n",
              "        vertical-align: middle;\n",
              "    }\n",
              "\n",
              "    .dataframe tbody tr th {\n",
              "        vertical-align: top;\n",
              "    }\n",
              "\n",
              "    .dataframe thead th {\n",
              "        text-align: right;\n",
              "    }\n",
              "</style>\n",
              "<table border=\"1\" class=\"dataframe\">\n",
              "  <thead>\n",
              "    <tr style=\"text-align: right;\">\n",
              "      <th></th>\n",
              "      <th>English</th>\n",
              "      <th>French</th>\n",
              "    </tr>\n",
              "  </thead>\n",
              "  <tbody>\n",
              "    <tr>\n",
              "      <th>0</th>\n",
              "      <td>new jersey is sometimes quiet during autumn , ...</td>\n",
              "      <td>new jersey est parfois calme pendant l' automn...</td>\n",
              "    </tr>\n",
              "    <tr>\n",
              "      <th>1</th>\n",
              "      <td>the united states is usually chilly during jul...</td>\n",
              "      <td>les états-unis est généralement froid en juill...</td>\n",
              "    </tr>\n",
              "    <tr>\n",
              "      <th>2</th>\n",
              "      <td>california is usually quiet during march , and...</td>\n",
              "      <td>california est généralement calme en mars , et...</td>\n",
              "    </tr>\n",
              "    <tr>\n",
              "      <th>3</th>\n",
              "      <td>the united states is sometimes mild during jun...</td>\n",
              "      <td>les états-unis est parfois légère en juin , et...</td>\n",
              "    </tr>\n",
              "    <tr>\n",
              "      <th>4</th>\n",
              "      <td>your least liked fruit is the grape , but my l...</td>\n",
              "      <td>votre moins aimé fruit est le raisin , mais mo...</td>\n",
              "    </tr>\n",
              "  </tbody>\n",
              "</table>\n",
              "</div>\n",
              "      <button class=\"colab-df-convert\" onclick=\"convertToInteractive('df-baa3756c-497a-4f03-9492-29c088e99c8c')\"\n",
              "              title=\"Convert this dataframe to an interactive table.\"\n",
              "              style=\"display:none;\">\n",
              "        \n",
              "  <svg xmlns=\"http://www.w3.org/2000/svg\" height=\"24px\"viewBox=\"0 0 24 24\"\n",
              "       width=\"24px\">\n",
              "    <path d=\"M0 0h24v24H0V0z\" fill=\"none\"/>\n",
              "    <path d=\"M18.56 5.44l.94 2.06.94-2.06 2.06-.94-2.06-.94-.94-2.06-.94 2.06-2.06.94zm-11 1L8.5 8.5l.94-2.06 2.06-.94-2.06-.94L8.5 2.5l-.94 2.06-2.06.94zm10 10l.94 2.06.94-2.06 2.06-.94-2.06-.94-.94-2.06-.94 2.06-2.06.94z\"/><path d=\"M17.41 7.96l-1.37-1.37c-.4-.4-.92-.59-1.43-.59-.52 0-1.04.2-1.43.59L10.3 9.45l-7.72 7.72c-.78.78-.78 2.05 0 2.83L4 21.41c.39.39.9.59 1.41.59.51 0 1.02-.2 1.41-.59l7.78-7.78 2.81-2.81c.8-.78.8-2.07 0-2.86zM5.41 20L4 18.59l7.72-7.72 1.47 1.35L5.41 20z\"/>\n",
              "  </svg>\n",
              "      </button>\n",
              "      \n",
              "  <style>\n",
              "    .colab-df-container {\n",
              "      display:flex;\n",
              "      flex-wrap:wrap;\n",
              "      gap: 12px;\n",
              "    }\n",
              "\n",
              "    .colab-df-convert {\n",
              "      background-color: #E8F0FE;\n",
              "      border: none;\n",
              "      border-radius: 50%;\n",
              "      cursor: pointer;\n",
              "      display: none;\n",
              "      fill: #1967D2;\n",
              "      height: 32px;\n",
              "      padding: 0 0 0 0;\n",
              "      width: 32px;\n",
              "    }\n",
              "\n",
              "    .colab-df-convert:hover {\n",
              "      background-color: #E2EBFA;\n",
              "      box-shadow: 0px 1px 2px rgba(60, 64, 67, 0.3), 0px 1px 3px 1px rgba(60, 64, 67, 0.15);\n",
              "      fill: #174EA6;\n",
              "    }\n",
              "\n",
              "    [theme=dark] .colab-df-convert {\n",
              "      background-color: #3B4455;\n",
              "      fill: #D2E3FC;\n",
              "    }\n",
              "\n",
              "    [theme=dark] .colab-df-convert:hover {\n",
              "      background-color: #434B5C;\n",
              "      box-shadow: 0px 1px 3px 1px rgba(0, 0, 0, 0.15);\n",
              "      filter: drop-shadow(0px 1px 2px rgba(0, 0, 0, 0.3));\n",
              "      fill: #FFFFFF;\n",
              "    }\n",
              "  </style>\n",
              "\n",
              "      <script>\n",
              "        const buttonEl =\n",
              "          document.querySelector('#df-baa3756c-497a-4f03-9492-29c088e99c8c button.colab-df-convert');\n",
              "        buttonEl.style.display =\n",
              "          google.colab.kernel.accessAllowed ? 'block' : 'none';\n",
              "\n",
              "        async function convertToInteractive(key) {\n",
              "          const element = document.querySelector('#df-baa3756c-497a-4f03-9492-29c088e99c8c');\n",
              "          const dataTable =\n",
              "            await google.colab.kernel.invokeFunction('convertToInteractive',\n",
              "                                                     [key], {});\n",
              "          if (!dataTable) return;\n",
              "\n",
              "          const docLinkHtml = 'Like what you see? Visit the ' +\n",
              "            '<a target=\"_blank\" href=https://colab.research.google.com/notebooks/data_table.ipynb>data table notebook</a>'\n",
              "            + ' to learn more about interactive tables.';\n",
              "          element.innerHTML = '';\n",
              "          dataTable['output_type'] = 'display_data';\n",
              "          await google.colab.output.renderOutput(dataTable, element);\n",
              "          const docLink = document.createElement('div');\n",
              "          docLink.innerHTML = docLinkHtml;\n",
              "          element.appendChild(docLink);\n",
              "        }\n",
              "      </script>\n",
              "    </div>\n",
              "  </div>\n",
              "  "
            ]
          },
          "metadata": {},
          "execution_count": 80
        }
      ],
      "source": [
        "#Test Your Zaka\n",
        "df=pd.concat([english, french], axis=1)\n",
        "df.head()"
      ]
    },
    {
      "cell_type": "markdown",
      "source": [
        "Let's name the columns as **English** and **French** so that we access them easier."
      ],
      "metadata": {
        "id": "nAr_caXkwwE7"
      }
    },
    {
      "cell_type": "code",
      "execution_count": null,
      "metadata": {
        "id": "eOHiQDXx3jFS",
        "colab": {
          "base_uri": "https://localhost:8080/"
        },
        "outputId": "5a5add74-806d-4e17-945b-e74faf066877"
      },
      "outputs": [
        {
          "output_type": "stream",
          "name": "stdout",
          "text": [
            "Already assigned\n"
          ]
        }
      ],
      "source": [
        "#Test Your Zaka\n",
        "print(\"Already assigned\")"
      ]
    },
    {
      "cell_type": "markdown",
      "source": [
        "Pick a sentence and print it in both languages"
      ],
      "metadata": {
        "id": "4xc1TsEHw9yC"
      }
    },
    {
      "cell_type": "code",
      "execution_count": null,
      "metadata": {
        "id": "QuRVWch23ujo",
        "colab": {
          "base_uri": "https://localhost:8080/"
        },
        "outputId": "47f460dc-38b7-47bf-de99-7af6e366937e"
      },
      "outputs": [
        {
          "output_type": "stream",
          "name": "stdout",
          "text": [
            "English sentence: new jersey is sometimes quiet during autumn , and it is snowy in april .\n",
            "French sentence: new jersey est parfois calme pendant l' automne , et il est neigeux en avril .\n"
          ]
        }
      ],
      "source": [
        "#Test Your Zaka\n",
        "print(f\"English sentence: {df.English[0]}\")\n",
        "print(f\"French sentence: {df.French[0]}\")"
      ]
    },
    {
      "cell_type": "markdown",
      "source": [
        "##Cleaning Data"
      ],
      "metadata": {
        "id": "FQjXYP1txFCi"
      }
    },
    {
      "cell_type": "markdown",
      "source": [
        "The data that we have is almost clean as we can see, we just need to remove the punctuations inside of it."
      ],
      "metadata": {
        "id": "xgz6jIoVxHUF"
      }
    },
    {
      "cell_type": "code",
      "source": [
        "#Test Your Zaka\n",
        "df[\"English\"] = df[\"English\"].str.replace('[^\\w\\s]','')\n",
        "df[\"French\"] = df[\"French\"].str.replace('[^\\w\\s]','')"
      ],
      "metadata": {
        "colab": {
          "base_uri": "https://localhost:8080/"
        },
        "id": "mo6cG7-GD13B",
        "outputId": "6253fa0a-e840-4ab2-a34f-5b0f3a402d7e"
      },
      "execution_count": null,
      "outputs": [
        {
          "output_type": "stream",
          "name": "stderr",
          "text": [
            "/usr/local/lib/python3.7/dist-packages/ipykernel_launcher.py:2: FutureWarning: The default value of regex will change from True to False in a future version.\n",
            "  \n",
            "/usr/local/lib/python3.7/dist-packages/ipykernel_launcher.py:3: FutureWarning: The default value of regex will change from True to False in a future version.\n",
            "  This is separate from the ipykernel package so we can avoid doing imports until\n"
          ]
        }
      ]
    },
    {
      "cell_type": "markdown",
      "source": [
        "Make sure that the punctuation is removed by printing the example that you printed earlier."
      ],
      "metadata": {
        "id": "0C1qsC9LxZPb"
      }
    },
    {
      "cell_type": "code",
      "execution_count": null,
      "metadata": {
        "id": "T80tiWxe84G7",
        "colab": {
          "base_uri": "https://localhost:8080/"
        },
        "outputId": "2955ad11-0b20-4da7-87a1-671a5a6871be"
      },
      "outputs": [
        {
          "output_type": "stream",
          "name": "stdout",
          "text": [
            "English sentence: new jersey is sometimes quiet during autumn  and it is snowy in april \n",
            "French sentence: new jersey est parfois calme pendant l automne  et il est neigeux en avril \n"
          ]
        }
      ],
      "source": [
        "#Test Your Zaka\n",
        "print(f\"English sentence: {df.English[0]}\")\n",
        "print(f\"French sentence: {df.French[0]}\")\n"
      ]
    },
    {
      "cell_type": "markdown",
      "source": [
        "##Exploring the Data"
      ],
      "metadata": {
        "id": "ZuFNjoBAx4oN"
      }
    },
    {
      "cell_type": "markdown",
      "source": [
        "Add a column **ENG Length** to the dataset that shows how many words does a sentence contain, and do the same for french in a column called **FR Length**"
      ],
      "metadata": {
        "id": "ATfefzPExi2k"
      }
    },
    {
      "cell_type": "code",
      "source": [
        "ENG_Length_ar = [len(s.split()) for s in df.English]\n",
        "FR_Length_ar = [len(s.split()) for s in df.French]\n",
        "\n",
        "df['ENG_Length'] = ENG_Length_ar"
      ],
      "metadata": {
        "id": "VQYtDGrTSun7"
      },
      "execution_count": null,
      "outputs": []
    },
    {
      "cell_type": "code",
      "execution_count": null,
      "metadata": {
        "id": "49keasjaPaaK",
        "colab": {
          "base_uri": "https://localhost:8080/",
          "height": 206
        },
        "outputId": "28616669-7f38-40f6-f9e3-cbb61192f450"
      },
      "outputs": [
        {
          "output_type": "execute_result",
          "data": {
            "text/plain": [
              "                                             English  \\\n",
              "0  new jersey is sometimes quiet during autumn  a...   \n",
              "1  the united states is usually chilly during jul...   \n",
              "2  california is usually quiet during march  and ...   \n",
              "3  the united states is sometimes mild during jun...   \n",
              "4  your least liked fruit is the grape  but my le...   \n",
              "\n",
              "                                              French  ENG_Length  FR_Length  \n",
              "0  new jersey est parfois calme pendant l automne...          13         14  \n",
              "1  les étatsunis est généralement froid en juille...          15         13  \n",
              "2  california est généralement calme en mars  et ...          13         13  \n",
              "3  les étatsunis est parfois légère en juin  et i...          14         13  \n",
              "4  votre moins aimé fruit est le raisin  mais mon...          14         14  "
            ],
            "text/html": [
              "\n",
              "  <div id=\"df-0e2b42c5-5c58-4e81-acc7-98731904621d\">\n",
              "    <div class=\"colab-df-container\">\n",
              "      <div>\n",
              "<style scoped>\n",
              "    .dataframe tbody tr th:only-of-type {\n",
              "        vertical-align: middle;\n",
              "    }\n",
              "\n",
              "    .dataframe tbody tr th {\n",
              "        vertical-align: top;\n",
              "    }\n",
              "\n",
              "    .dataframe thead th {\n",
              "        text-align: right;\n",
              "    }\n",
              "</style>\n",
              "<table border=\"1\" class=\"dataframe\">\n",
              "  <thead>\n",
              "    <tr style=\"text-align: right;\">\n",
              "      <th></th>\n",
              "      <th>English</th>\n",
              "      <th>French</th>\n",
              "      <th>ENG_Length</th>\n",
              "      <th>FR_Length</th>\n",
              "    </tr>\n",
              "  </thead>\n",
              "  <tbody>\n",
              "    <tr>\n",
              "      <th>0</th>\n",
              "      <td>new jersey is sometimes quiet during autumn  a...</td>\n",
              "      <td>new jersey est parfois calme pendant l automne...</td>\n",
              "      <td>13</td>\n",
              "      <td>14</td>\n",
              "    </tr>\n",
              "    <tr>\n",
              "      <th>1</th>\n",
              "      <td>the united states is usually chilly during jul...</td>\n",
              "      <td>les étatsunis est généralement froid en juille...</td>\n",
              "      <td>15</td>\n",
              "      <td>13</td>\n",
              "    </tr>\n",
              "    <tr>\n",
              "      <th>2</th>\n",
              "      <td>california is usually quiet during march  and ...</td>\n",
              "      <td>california est généralement calme en mars  et ...</td>\n",
              "      <td>13</td>\n",
              "      <td>13</td>\n",
              "    </tr>\n",
              "    <tr>\n",
              "      <th>3</th>\n",
              "      <td>the united states is sometimes mild during jun...</td>\n",
              "      <td>les étatsunis est parfois légère en juin  et i...</td>\n",
              "      <td>14</td>\n",
              "      <td>13</td>\n",
              "    </tr>\n",
              "    <tr>\n",
              "      <th>4</th>\n",
              "      <td>your least liked fruit is the grape  but my le...</td>\n",
              "      <td>votre moins aimé fruit est le raisin  mais mon...</td>\n",
              "      <td>14</td>\n",
              "      <td>14</td>\n",
              "    </tr>\n",
              "  </tbody>\n",
              "</table>\n",
              "</div>\n",
              "      <button class=\"colab-df-convert\" onclick=\"convertToInteractive('df-0e2b42c5-5c58-4e81-acc7-98731904621d')\"\n",
              "              title=\"Convert this dataframe to an interactive table.\"\n",
              "              style=\"display:none;\">\n",
              "        \n",
              "  <svg xmlns=\"http://www.w3.org/2000/svg\" height=\"24px\"viewBox=\"0 0 24 24\"\n",
              "       width=\"24px\">\n",
              "    <path d=\"M0 0h24v24H0V0z\" fill=\"none\"/>\n",
              "    <path d=\"M18.56 5.44l.94 2.06.94-2.06 2.06-.94-2.06-.94-.94-2.06-.94 2.06-2.06.94zm-11 1L8.5 8.5l.94-2.06 2.06-.94-2.06-.94L8.5 2.5l-.94 2.06-2.06.94zm10 10l.94 2.06.94-2.06 2.06-.94-2.06-.94-.94-2.06-.94 2.06-2.06.94z\"/><path d=\"M17.41 7.96l-1.37-1.37c-.4-.4-.92-.59-1.43-.59-.52 0-1.04.2-1.43.59L10.3 9.45l-7.72 7.72c-.78.78-.78 2.05 0 2.83L4 21.41c.39.39.9.59 1.41.59.51 0 1.02-.2 1.41-.59l7.78-7.78 2.81-2.81c.8-.78.8-2.07 0-2.86zM5.41 20L4 18.59l7.72-7.72 1.47 1.35L5.41 20z\"/>\n",
              "  </svg>\n",
              "      </button>\n",
              "      \n",
              "  <style>\n",
              "    .colab-df-container {\n",
              "      display:flex;\n",
              "      flex-wrap:wrap;\n",
              "      gap: 12px;\n",
              "    }\n",
              "\n",
              "    .colab-df-convert {\n",
              "      background-color: #E8F0FE;\n",
              "      border: none;\n",
              "      border-radius: 50%;\n",
              "      cursor: pointer;\n",
              "      display: none;\n",
              "      fill: #1967D2;\n",
              "      height: 32px;\n",
              "      padding: 0 0 0 0;\n",
              "      width: 32px;\n",
              "    }\n",
              "\n",
              "    .colab-df-convert:hover {\n",
              "      background-color: #E2EBFA;\n",
              "      box-shadow: 0px 1px 2px rgba(60, 64, 67, 0.3), 0px 1px 3px 1px rgba(60, 64, 67, 0.15);\n",
              "      fill: #174EA6;\n",
              "    }\n",
              "\n",
              "    [theme=dark] .colab-df-convert {\n",
              "      background-color: #3B4455;\n",
              "      fill: #D2E3FC;\n",
              "    }\n",
              "\n",
              "    [theme=dark] .colab-df-convert:hover {\n",
              "      background-color: #434B5C;\n",
              "      box-shadow: 0px 1px 3px 1px rgba(0, 0, 0, 0.15);\n",
              "      filter: drop-shadow(0px 1px 2px rgba(0, 0, 0, 0.3));\n",
              "      fill: #FFFFFF;\n",
              "    }\n",
              "  </style>\n",
              "\n",
              "      <script>\n",
              "        const buttonEl =\n",
              "          document.querySelector('#df-0e2b42c5-5c58-4e81-acc7-98731904621d button.colab-df-convert');\n",
              "        buttonEl.style.display =\n",
              "          google.colab.kernel.accessAllowed ? 'block' : 'none';\n",
              "\n",
              "        async function convertToInteractive(key) {\n",
              "          const element = document.querySelector('#df-0e2b42c5-5c58-4e81-acc7-98731904621d');\n",
              "          const dataTable =\n",
              "            await google.colab.kernel.invokeFunction('convertToInteractive',\n",
              "                                                     [key], {});\n",
              "          if (!dataTable) return;\n",
              "\n",
              "          const docLinkHtml = 'Like what you see? Visit the ' +\n",
              "            '<a target=\"_blank\" href=https://colab.research.google.com/notebooks/data_table.ipynb>data table notebook</a>'\n",
              "            + ' to learn more about interactive tables.';\n",
              "          element.innerHTML = '';\n",
              "          dataTable['output_type'] = 'display_data';\n",
              "          await google.colab.output.renderOutput(dataTable, element);\n",
              "          const docLink = document.createElement('div');\n",
              "          docLink.innerHTML = docLinkHtml;\n",
              "          element.appendChild(docLink);\n",
              "        }\n",
              "      </script>\n",
              "    </div>\n",
              "  </div>\n",
              "  "
            ]
          },
          "metadata": {},
          "execution_count": 86
        }
      ],
      "source": [
        "#Test Your Zaka\n",
        "df['FR_Length'] = FR_Length_ar\n",
        "df.head()\n"
      ]
    },
    {
      "cell_type": "markdown",
      "source": [
        "Visualize the distribution of the lengths of english sentences and french sentences."
      ],
      "metadata": {
        "id": "AjQLW0K5xwx1"
      }
    },
    {
      "cell_type": "code",
      "execution_count": null,
      "metadata": {
        "id": "_q_UIMJ09L24",
        "colab": {
          "base_uri": "https://localhost:8080/",
          "height": 298
        },
        "outputId": "299d63c4-1c68-457d-d21e-06bbc70db17e"
      },
      "outputs": [
        {
          "output_type": "execute_result",
          "data": {
            "text/plain": [
              "Text(0.5, 1.0, 'distribution of the lengths of english sentences')"
            ]
          },
          "metadata": {},
          "execution_count": 87
        },
        {
          "output_type": "display_data",
          "data": {
            "text/plain": [
              "<Figure size 432x288 with 1 Axes>"
            ],
            "image/png": "[encoded data removed]"
          },
          "metadata": {
            "needs_background": "light"
          }
        }
      ],
      "source": [
        "#Test Your Zaka\n",
        "import matplotlib.pyplot as plt\n",
        "\n",
        "plt.hist(df.ENG_Length)\n",
        "plt.title(\"distribution of the lengths of english sentences\")"
      ]
    },
    {
      "cell_type": "code",
      "execution_count": null,
      "metadata": {
        "id": "TSn4L7kW9R7g",
        "colab": {
          "base_uri": "https://localhost:8080/",
          "height": 298
        },
        "outputId": "138ecdeb-a21b-4fc2-9885-23d55004c100"
      },
      "outputs": [
        {
          "output_type": "execute_result",
          "data": {
            "text/plain": [
              "Text(0.5, 1.0, 'distribution of the lengths of french sentences')"
            ]
          },
          "metadata": {},
          "execution_count": 88
        },
        {
          "output_type": "display_data",
          "data": {
            "text/plain": [
              "<Figure size 432x288 with 1 Axes>"
            ],
            "image/png": "[encoded data removed]"
          },
          "metadata": {
            "needs_background": "light"
          }
        }
      ],
      "source": [
        "#Test Your Zaka\n",
        "plt.hist(df.FR_Length)\n",
        "plt.title(\"distribution of the lengths of french sentences\")"
      ]
    },
    {
      "cell_type": "markdown",
      "source": [
        "Get the maximum length of an english sentence and the maximum length of a french sentence. "
      ],
      "metadata": {
        "id": "BDXb2d9ix9DV"
      }
    },
    {
      "cell_type": "code",
      "execution_count": null,
      "metadata": {
        "id": "BpnBB04U_lHd",
        "colab": {
          "base_uri": "https://localhost:8080/"
        },
        "outputId": "7849706e-e448-4728-f100-e6dfb97f88b5"
      },
      "outputs": [
        {
          "output_type": "stream",
          "name": "stdout",
          "text": [
            "The maximum nb of words in a french sentence is 21\n",
            "The maximum nb of words in a english sentence is 15\n"
          ]
        }
      ],
      "source": [
        "#Test Your Zaka\n",
        "print(f\"The maximum nb of words in a french sentence is {df.FR_Length.max()}\")\n",
        "print(f\"The maximum nb of words in a english sentence is {df.ENG_Length.max()}\")\n"
      ]
    },
    {
      "cell_type": "markdown",
      "source": [
        "##Preprocessing the Data"
      ],
      "metadata": {
        "id": "s4s-spsRyGJv"
      }
    },
    {
      "cell_type": "markdown",
      "source": [
        "In order for the data to be fed to the model, it has to be tokenized and padded. "
      ],
      "metadata": {
        "id": "N0ZmIT2GyJMU"
      }
    },
    {
      "cell_type": "markdown",
      "source": [
        "####Tokenization"
      ],
      "metadata": {
        "id": "R0r9z-eErm9H"
      }
    },
    {
      "cell_type": "markdown",
      "source": [
        "**To tokenize english and french sentences, we can use only one tokenizer. True or False?**"
      ],
      "metadata": {
        "id": "X5L_zkhfyQuX"
      }
    },
    {
      "cell_type": "markdown",
      "source": [
        "False,  we need two tokenizers one for english and one for french, but we use the same library`"
      ],
      "metadata": {
        "id": "1Z0ZcNOeyauD"
      }
    },
    {
      "cell_type": "markdown",
      "source": [
        "Tokenize the sentences that we have."
      ],
      "metadata": {
        "id": "814mKDFiymcY"
      }
    },
    {
      "cell_type": "code",
      "source": [
        "from tensorflow.keras.preprocessing.text import Tokenizer\n",
        "from sklearn.model_selection import train_test_split\n",
        "\n",
        "#X=df['eng_sent'].values\n",
        "#Y=df['fr_sent'].values\n",
        "\n",
        "X=df['English'].values\n",
        "Y=df['French'].values\n",
        "\n",
        "x_train, x_test, y_train, y_test = train_test_split(X, Y, test_size=0.2, random_state=42)\n",
        "print(f\"we have {x_train.shape} training examples and {x_test.shape} testing examples\")\n",
        "\n",
        "# define your tokenizer ()\n",
        "en_tokenizer = Tokenizer(oov_token=\"<00V>\") # in case there are words not seen in corpus\n",
        "fr_tokenizer = Tokenizer( oov_token=\"<00V>\") # in case there are words not seen in corpus\n",
        "\n",
        "\n",
        "# assign an index (number) to each word using fit_on_texts function  \n",
        "en_tokenizer.fit_on_texts(x_train)\n",
        "en_word_index=en_tokenizer.word_index\n",
        "\n",
        "fr_tokenizer.fit_on_texts(y_train)\n",
        "fr_word_index=fr_tokenizer.word_index\n",
        "\n",
        "# transform each text to a sequence of integers (to be used later in embeddings layer)\n",
        "eng_seq =  en_tokenizer.texts_to_sequences(x_train)\n",
        "fr_seq = fr_tokenizer.texts_to_sequences(y_train)\n",
        "\n",
        "print(f\"example of tranformed english sentence to sequence {eng_seq[0]}\")\n",
        "print(f\"example of tranformed french sentence to sequence {fr_seq[0]}\")\n",
        "\n",
        "#test_en_seq= en_tokenizer.texts_to_sequences(x_test)"
      ],
      "metadata": {
        "id": "dH86RYz8j_kj",
        "colab": {
          "base_uri": "https://localhost:8080/"
        },
        "outputId": "40811ea1-1acb-444c-f8aa-435cfb55726d"
      },
      "execution_count": null,
      "outputs": [
        {
          "output_type": "stream",
          "name": "stdout",
          "text": [
            "we have (110288,) training examples and (27572,) testing examples\n",
            "example of tranformed english sentence to sequence [25, 2, 11, 62, 5, 35, 7, 4, 2, 66, 3, 43]\n",
            "example of tranformed french sentence to sequence [8, 33, 2, 13, 20, 27, 98, 6, 4, 2, 67, 3, 48]\n"
          ]
        }
      ]
    },
    {
      "cell_type": "markdown",
      "source": [
        "**How many unique words do we have in english and in french?**"
      ],
      "metadata": {
        "id": "aUN01jDXys9B"
      }
    },
    {
      "cell_type": "code",
      "source": [
        "print(f\"We have {len(en_word_index)-1} English words, words index {en_word_index}\")\n",
        "print(f\"We have {len(fr_word_index)-1} French words, words index {fr_word_index}\")\n"
      ],
      "metadata": {
        "id": "bCMiIvSUltfX",
        "colab": {
          "base_uri": "https://localhost:8080/"
        },
        "outputId": "f50c7c1f-df14-4000-b720-f38a117f6e54"
      },
      "execution_count": null,
      "outputs": [
        {
          "output_type": "stream",
          "name": "stdout",
          "text": [
            "We have 199 English words, words index {'<00V>': 1, 'is': 2, 'in': 3, 'it': 4, 'during': 5, 'the': 6, 'but': 7, 'and': 8, 'sometimes': 9, 'never': 10, 'usually': 11, 'favorite': 12, 'least': 13, 'fruit': 14, 'most': 15, 'liked': 16, 'loved': 17, 'new': 18, 'paris': 19, 'united': 20, 'states': 21, 'india': 22, 'jersey': 23, 'california': 24, 'france': 25, 'china': 26, 'she': 27, 'he': 28, 'grapefruit': 29, 'your': 30, 'her': 31, 'his': 32, 'my': 33, 'spring': 34, 'fall': 35, 'june': 36, 'winter': 37, 'autumn': 38, 'march': 39, 'january': 40, 'november': 41, 'nice': 42, 'february': 43, 'september': 44, 'summer': 45, 'july': 46, 'snowy': 47, 'december': 48, 'beautiful': 49, 'october': 50, 'our': 51, 'may': 52, 'pleasant': 53, 'april': 54, 'cold': 55, 'wonderful': 56, 'their': 57, 'freezing': 58, 'dry': 59, 'warm': 60, 'busy': 61, 'chilly': 62, 'mild': 63, 'august': 64, 'rainy': 65, 'quiet': 66, 'hot': 67, 'wet': 68, 'relaxing': 69, 'likes': 70, 'dislikes': 71, 'grapes': 72, 'lemons': 73, 'peaches': 74, 'mangoes': 75, 'pears': 76, 'oranges': 77, 'apples': 78, 'strawberries': 79, 'limes': 80, 'bananas': 81, 'to': 82, 'orange': 83, 'mango': 84, 'apple': 85, 'lemon': 86, 'pear': 87, 'lime': 88, 'grape': 89, 'peach': 90, 'strawberry': 91, 'banana': 92, 'like': 93, 'dislike': 94, 'they': 95, 'that': 96, 'i': 97, 'we': 98, 'you': 99, 'animal': 100, 'truck': 101, 'a': 102, 'automobile': 103, 'car': 104, 'was': 105, 'next': 106, 'go': 107, 'driving': 108, 'visit': 109, 'little': 110, 'big': 111, 'white': 112, 'old': 113, 'black': 114, 'shiny': 115, 'green': 116, 'red': 117, 'yellow': 118, 'rusty': 119, 'blue': 120, 'are': 121, 'animals': 122, 'feared': 123, 'last': 124, 'this': 125, 'plan': 126, 'going': 127, 'drove': 128, 'disliked': 129, 'saw': 130, 'drives': 131, 'between': 132, 'translate': 133, 'plans': 134, 'were': 135, 'might': 136, 'went': 137, 'wanted': 138, 'thinks': 139, 'spanish': 140, 'portuguese': 141, 'french': 142, 'english': 143, 'translating': 144, 'chinese': 145, 'easy': 146, 'difficult': 147, 'fun': 148, 'wants': 149, 'why': 150, 'its': 151, 'think': 152, 'did': 153, 'monkey': 154, 'snake': 155, 'lion': 156, 'horse': 157, 'cat': 158, 'bird': 159, 'dog': 160, 'shark': 161, 'mouse': 162, 'elephant': 163, 'rabbit': 164, 'bear': 165, 'when': 166, 'want': 167, 'do': 168, 'horses': 169, 'lions': 170, 'how': 171, 'rabbits': 172, 'monkeys': 173, 'mice': 174, 'bears': 175, 'elephants': 176, 'snakes': 177, 'cats': 178, 'didnt': 179, 'eiffel': 180, 'tower': 181, 'sharks': 182, 'dogs': 183, 'birds': 184, 'lake': 185, 'school': 186, 'grocery': 187, 'store': 188, 'football': 189, 'field': 190, 'would': 191, 'arent': 192, 'weather': 193, 'been': 194, 'am': 195, 'does': 196, 'isnt': 197, 'has': 198, 'have': 199, 'where': 200}\n",
            "We have 342 French words, words index {'<00V>': 1, 'est': 2, 'en': 3, 'il': 4, 'les': 5, 'mais': 6, 'et': 7, 'la': 8, 'parfois': 9, 'jamais': 10, 'le': 11, 'l': 12, 'généralement': 13, 'moins': 14, 'au': 15, 'aimé': 16, 'fruit': 17, 'préféré': 18, 'agréable': 19, 'froid': 20, 'son': 21, 'chaud': 22, 'de': 23, 'plus': 24, 'automne': 25, 'mois': 26, 'à': 27, 'elle': 28, 'citrons': 29, 'paris': 30, 'étatsunis': 31, 'inde': 32, 'france': 33, 'jersey': 34, 'new': 35, 'chine': 36, 'pendant': 37, 'pamplemousse': 38, 'votre': 39, 'mon': 40, 'printemps': 41, 'juin': 42, 'hiver': 43, 'mars': 44, 'janvier': 45, 'été': 46, 'novembre': 47, 'février': 48, 'septembre': 49, 'juillet': 50, 'décembre': 51, 'octobre': 52, 'mai': 53, 'aime': 54, 'avril': 55, 'août': 56, 'merveilleux': 57, 'doux': 58, 'relaxant': 59, 'humide': 60, 'notre': 61, 'californie': 62, 'sec': 63, 'leur': 64, 'occupé': 65, 'pluvieux': 66, 'calme': 67, 'beau': 68, 'habituellement': 69, 'pêches': 70, 'raisins': 71, 'poires': 72, 'oranges': 73, 'mangues': 74, 'pommes': 75, 'fraises': 76, 'verts': 77, 'bananes': 78, 'd': 79, 'mangue': 80, 'lorange': 81, 'gel': 82, 'pomme': 83, 'citron': 84, 'poire': 85, 'chaux': 86, 'raisin': 87, 'pêche': 88, 'fraise': 89, 'banane': 90, 'pas': 91, 'enneigée': 92, 'favori': 93, 'déteste': 94, 'gèle': 95, 'fruits': 96, 'voiture': 97, 'lautomne': 98, 'ils': 99, 'naime': 100, 'neige': 101, 'california': 102, 'fait': 103, 'belle': 104, 'ne': 105, 'nous': 106, 'vous': 107, 'des': 108, 'animal': 109, 'camion': 110, 'cours': 111, 'neigeux': 112, 'conduit': 113, 'prochain': 114, 'ce': 115, 'je': 116, 'tranquille': 117, 'a': 118, 'une': 119, 'cher': 120, 'cette': 121, 'était': 122, 'aller': 123, 'aimons': 124, 'chaude': 125, 'aiment': 126, 'naiment': 127, 'naimez': 128, 'leurs': 129, 'aimez': 130, 'sont': 131, 'détestons': 132, 'rouge': 133, 'jaune': 134, 'jaime': 135, 'visiter': 136, 'occupée': 137, 'frisquet': 138, 'sèche': 139, 'animaux': 140, 'préférée': 141, 'dernier': 142, 'aimait': 143, 'un': 144, 'conduisait': 145, 'que': 146, 'vieille': 147, 'vu': 148, 'nouvelle': 149, 'verte': 150, 'petite': 151, 'nos': 152, 'noire': 153, 'brillant': 154, 'blanche': 155, 'redouté': 156, 'pleut': 157, 'naimait': 158, 'pamplemousses': 159, 'pense': 160, 'entre': 161, 'traduire': 162, 'bleue': 163, 'nouveau': 164, 'rouillée': 165, 'bleu': 166, 'se': 167, 'grande': 168, 'rouillé': 169, 'blanc': 170, 'quil': 171, 'aux': 172, 'préférés': 173, 'brillante': 174, 'ses': 175, 'noir': 176, 'pluies': 177, 'envisage': 178, 'étaient': 179, 'rendre': 180, 'va': 181, 'vert': 182, 'vieux': 183, 'petit': 184, 'espagnol': 185, 'portugais': 186, 'mes': 187, 'glaciales': 188, 'français': 189, 'anglais': 190, 'cet': 191, 'chinois': 192, 'mouillé': 193, 'automobile': 194, 'traduction': 195, 'comme': 196, 'facile': 197, 'gros': 198, 'difficile': 199, 'souris': 200, 'aimés': 201, 'pourrait': 202, 'amusant': 203, 'veut': 204, 'pourquoi': 205, 'voulait': 206, 'prévois': 207, 'vos': 208, 'prévoyons': 209, 'intention': 210, 'singe': 211, 'ont': 212, 'serpent': 213, 'clémentes': 214, 'ours': 215, 'lion': 216, 'cheval': 217, 'chat': 218, 'chien': 219, 'requin': 220, 'allé': 221, 'lapin': 222, 'redoutés': 223, 'grosse': 224, 'vont': 225, 'pluie': 226, 'volant': 227, 'maillot': 228, 'trop': 229, 'monde': 230, 'avez': 231, 'i': 232, 'allés': 233, 'quand': 234, 'allée': 235, 'veulent': 236, 'oiseau': 237, 'éléphant': 238, 'pourraient': 239, 'voulaient': 240, 'détendre': 241, 'aimée': 242, 'lautomobile': 243, 'magnifique': 244, 'gelé': 245, 'naimons': 246, 'détestait': 247, 'grand': 248, 'vers': 249, 'bien': 250, 'lui': 251, 'prévoient': 252, 'prévoit': 253, 'chevaux': 254, 'lions': 255, 'comment': 256, 'lapins': 257, 'singes': 258, 'éléphants': 259, 'serpents': 260, 'loiseau': 261, 'chats': 262, 'léléphant': 263, 'visite': 264, 'tour': 265, 'eiffel': 266, 'requins': 267, 'légère': 268, 'chiens': 269, 'oiseaux': 270, 'lac': 271, 'lécole': 272, 'cépage': 273, 'pensez': 274, 'lépicerie': 275, 'lours': 276, 'lanimal': 277, 'terrain': 278, 'football': 279, 'nest': 280, 'allons': 281, 'pousse': 282, 'peu': 283, 'du': 284, 'allez': 285, 'temps': 286, 'at': 287, 'rouille': 288, 'sur': 289, 'voudrait': 290, 'quelle': 291, 'êtesvous': 292, 'petites': 293, 'vais': 294, 'dernière': 295, 'porcelaine': 296, 'frais': 297, 'avons': 298, 'grandes': 299, 'détestez': 300, 'proches': 301, 'manguiers': 302, 'cest': 303, 'plaît': 304, 't': 305, 'préférées': 306, 'estce': 307, 'dans': 308, 'voulez': 309, 'douce': 310, 'na': 311, 'durant': 312, 'envisagent': 313, 'aimentils': 314, 'aimeraient': 315, 'grands': 316, 'petits': 317, 'congélation': 318, 'mouillée': 319, 'bénigne': 320, 'enneigé': 321, 'grosses': 322, 'conduite': 323, 'moindres': 324, 'gelés': 325, 'où': 326, 'limes': 327, 'tout': 328, 'nêtes': 329, 'vit': 330, 'ressort': 331, 'traduis': 332, 'détend': 333, 'redoutée': 334, 'etatsunis': 335, 'favoris': 336, 'moteur': 337, 'astu': 338, 'trouvé': 339, 'qui': 340, 'allions': 341, 'estu': 342, 'faire': 343}\n"
          ]
        }
      ]
    },
    {
      "cell_type": "markdown",
      "source": [
        "####Padding"
      ],
      "metadata": {
        "id": "g0C2RJjArtJd"
      }
    },
    {
      "cell_type": "markdown",
      "source": [
        "**What should be the length of the sequences that we have after padding?**"
      ],
      "metadata": {
        "id": "vXdTXMo5y8oB"
      }
    },
    {
      "cell_type": "markdown",
      "source": [
        "length of the sequences should be equal to the length of the longest  french sentence"
      ],
      "metadata": {
        "id": "9wtHQsgXzImq"
      }
    },
    {
      "cell_type": "markdown",
      "source": [
        "Perform padding on the sequences that we have."
      ],
      "metadata": {
        "id": "hRXayRzVzQD4"
      }
    },
    {
      "cell_type": "code",
      "execution_count": null,
      "metadata": {
        "id": "oNdO9EZrxvmN",
        "colab": {
          "base_uri": "https://localhost:8080/"
        },
        "outputId": "9de02033-b560-42b8-a873-450960eea1e1"
      },
      "outputs": [
        {
          "output_type": "stream",
          "name": "stdout",
          "text": [
            "Max sequence length 21\n",
            "(110288, 21) (110288, 21, 1)\n"
          ]
        }
      ],
      "source": [
        "#Test Your Zaka\n",
        "from tensorflow.keras.preprocessing.sequence import pad_sequences\n",
        "\n",
        "max_seq_length=max(len(x) for x in fr_seq )\n",
        "print(f\"Max sequence length {max_seq_length}\")\n",
        "\n",
        "train_en_sent = pad_sequences(eng_seq, maxlen=max_seq_length, padding='post')\n",
        "train_fr_sent = pad_sequences(fr_seq, maxlen=max_seq_length, padding='post')\n",
        "\n",
        "# Keras's sparse_categorical_crossentropy function requires the labels to be in 3 dimensions\n",
        "#Expanding dimensions\n",
        "train_fr_sent= train_fr_sent.reshape(*train_fr_sent.shape, 1)\n",
        "print(train_en_sent.shape,train_fr_sent.shape)\n",
        "\n",
        "# define vocabulary size\n",
        "eng_vocab_size = len(en_word_index) + 1\n",
        "fr_vocab_size = len(fr_word_index) + 1"
      ]
    },
    {
      "cell_type": "code",
      "source": [
        "print(x_train[0], train_en_sent[0])\n",
        "print(y_train[0], train_fr_sent[0])\n",
        "print(eng_vocab_size, fr_vocab_size)\n",
        "\n",
        "#200 343 104097 98631"
      ],
      "metadata": {
        "id": "pPDTAmWYeAZL",
        "colab": {
          "base_uri": "https://localhost:8080/"
        },
        "outputId": "bb96b665-7da1-471f-999d-30c8752f15df"
      },
      "execution_count": null,
      "outputs": [
        {
          "output_type": "stream",
          "name": "stdout",
          "text": [
            "france is usually chilly during fall  but it is quiet in february  [25  2 11 62  5 35  7  4  2 66  3 43  0  0  0  0  0  0  0  0  0]\n",
            "la france est généralement froid à lautomne  mais il est calme en février  [[ 8]\n",
            " [33]\n",
            " [ 2]\n",
            " [13]\n",
            " [20]\n",
            " [27]\n",
            " [98]\n",
            " [ 6]\n",
            " [ 4]\n",
            " [ 2]\n",
            " [67]\n",
            " [ 3]\n",
            " [48]\n",
            " [ 0]\n",
            " [ 0]\n",
            " [ 0]\n",
            " [ 0]\n",
            " [ 0]\n",
            " [ 0]\n",
            " [ 0]\n",
            " [ 0]]\n",
            "201 344\n"
          ]
        }
      ]
    },
    {
      "cell_type": "markdown",
      "source": [
        "##Modeling"
      ],
      "metadata": {
        "id": "JxvvVU3ezUHR"
      }
    },
    {
      "cell_type": "markdown",
      "source": [
        "After preprrocessing the data, we can build our model. Start by building a baseline architecture relying on one directional RNNs, LSTMs, or GRUs. It will be good to lookup how to build Seq2Seq models, there are some new layers that will help you like RepeatVector and TimeDistributed."
      ],
      "metadata": {
        "id": "FEKujJUEzVux"
      }
    },
    {
      "cell_type": "markdown",
      "source": [
        "Notes:\n",
        "\n",
        "TimeDistributed wrapper layer: allows us to apply a layer to every temporal slice of an input-->  That means that instead of having several input “models”, we can use “one model” applied to each input. \n",
        "\n",
        "TimeDistributedDense applies a same Dense (fully-connected) operation to every timestep of a 3D tensor.\n",
        "\n",
        "There are two key points to remember when using the TimeDistributed wrapper layer:\n",
        "\n",
        "The input must be (at least) 3D. This often means that you will need to configure your last LSTM layer prior to your TimeDistributed wrapped Dense layer to return sequences (e.g. set the “return_sequences” argument to “True”).\n",
        "\n",
        "The output will be 3D. This means that if your TimeDistributed wrapped Dense layer is your output layer and you are predicting a sequence, you will need to resize your y array into a 3D vector."
      ],
      "metadata": {
        "id": "wgBt3iR2H51X"
      }
    },
    {
      "cell_type": "markdown",
      "source": [
        "Notes:\n",
        "\n",
        "The RepeatVector layer acts as a bridge between the encoder and decoder modules.\n",
        "It prepares the 2D array input for the first LSTM layer in Decoder."
      ],
      "metadata": {
        "id": "ETwags0ugtVG"
      }
    },
    {
      "cell_type": "code",
      "source": [
        "#Test Your Zaka\n",
        "from keras.models import Model, Sequential\n",
        "from keras.layers import GRU, Input, Dense, TimeDistributed, Activation, RepeatVector, Bidirectional, Dropout, LSTM\n",
        "from keras.layers.embeddings import Embedding\n",
        "from keras.losses import sparse_categorical_crossentropy\n",
        "\n",
        "print(f\" train_en_sent shape { train_en_sent.shape},train_Y shape { train_fr_sent.shape}\")\n",
        "print(f\" eng_vocab_size {eng_vocab_size} ,fr_vocab_size {fr_vocab_size}\")\n",
        "\n",
        "embedding_dim = 300\n",
        "\n",
        "model = Sequential()\n",
        "\n",
        "model.add(Embedding(eng_vocab_size, embedding_dim, input_length=max_seq_length, input_shape=train_en_sent.shape[1:]))\n",
        "model.add(LSTM(256, return_sequences=True)) #return_sequences=True to convert shape to 3D to fit TimeDistributed   \n",
        "model.add(TimeDistributed(Dense(1024, activation='relu')))\n",
        "model.add(TimeDistributed(Dense(fr_vocab_size, activation='softmax'))) \n",
        "\n",
        "# Compile model\n",
        "model.compile(loss=sparse_categorical_crossentropy,#Used as a loss function for multi-class classification model where the output label is assigned integer value\n",
        "              optimizer='adam',\n",
        "              metrics=['accuracy'])\n",
        "model.summary()"
      ],
      "metadata": {
        "colab": {
          "base_uri": "https://localhost:8080/"
        },
        "id": "ZaZGJdELXSof",
        "outputId": "307e8f4f-da4c-4e68-c057-035c86cb817a"
      },
      "execution_count": null,
      "outputs": [
        {
          "output_type": "stream",
          "name": "stdout",
          "text": [
            " train_en_sent shape (110288, 21),train_Y shape (110288, 21, 1)\n",
            " eng_vocab_size 201 ,fr_vocab_size 344\n",
            "Model: \"sequential_2\"\n",
            "_________________________________________________________________\n",
            " Layer (type)                Output Shape              Param #   \n",
            "=================================================================\n",
            " embedding_2 (Embedding)     (None, 21, 300)           60300     \n",
            "                                                                 \n",
            " lstm_3 (LSTM)               (None, 21, 256)           570368    \n",
            "                                                                 \n",
            " time_distributed_4 (TimeDis  (None, 21, 1024)         263168    \n",
            " tributed)                                                       \n",
            "                                                                 \n",
            " time_distributed_5 (TimeDis  (None, 21, 344)          352600    \n",
            " tributed)                                                       \n",
            "                                                                 \n",
            "=================================================================\n",
            "Total params: 1,246,436\n",
            "Trainable params: 1,246,436\n",
            "Non-trainable params: 0\n",
            "_________________________________________________________________\n"
          ]
        }
      ]
    },
    {
      "cell_type": "markdown",
      "source": [
        "Compile and train the model. \n",
        "**FYI:** While specifying the architecture of your model and the number of epochs for training, keeep in your mind that your model might take A LOT of time to train."
      ],
      "metadata": {
        "id": "aP10HtNBzpT0"
      }
    },
    {
      "cell_type": "code",
      "execution_count": null,
      "metadata": {
        "id": "lWw4nBNIFp9D",
        "colab": {
          "base_uri": "https://localhost:8080/"
        },
        "outputId": "fd3ec0cf-18a4-450a-c1e4-26d9ade7123c"
      },
      "outputs": [
        {
          "output_type": "stream",
          "name": "stdout",
          "text": [
            "Epoch 1/30\n",
            "177/177 [==============================] - 8s 34ms/step - loss: 2.1751 - accuracy: 0.5360 - val_loss: 1.1775 - val_accuracy: 0.6923\n",
            "Epoch 2/30\n",
            "177/177 [==============================] - 6s 31ms/step - loss: 0.8333 - accuracy: 0.7698 - val_loss: 0.6259 - val_accuracy: 0.8090\n",
            "Epoch 3/30\n",
            "177/177 [==============================] - 6s 32ms/step - loss: 0.5289 - accuracy: 0.8345 - val_loss: 0.4649 - val_accuracy: 0.8523\n",
            "Epoch 4/30\n",
            "177/177 [==============================] - 6s 32ms/step - loss: 0.4210 - accuracy: 0.8636 - val_loss: 0.4176 - val_accuracy: 0.8633\n",
            "Epoch 5/30\n",
            "177/177 [==============================] - 6s 32ms/step - loss: 0.3646 - accuracy: 0.8799 - val_loss: 0.3663 - val_accuracy: 0.8784\n",
            "Epoch 6/30\n",
            "177/177 [==============================] - 6s 32ms/step - loss: 0.3311 - accuracy: 0.8896 - val_loss: 0.3192 - val_accuracy: 0.8923\n",
            "Epoch 7/30\n",
            "177/177 [==============================] - 6s 32ms/step - loss: 0.3052 - accuracy: 0.8973 - val_loss: 0.3007 - val_accuracy: 0.8988\n",
            "Epoch 8/30\n",
            "177/177 [==============================] - 6s 33ms/step - loss: 0.2873 - accuracy: 0.9027 - val_loss: 0.2875 - val_accuracy: 0.9021\n",
            "Epoch 9/30\n",
            "177/177 [==============================] - 6s 33ms/step - loss: 0.2734 - accuracy: 0.9068 - val_loss: 0.2749 - val_accuracy: 0.9076\n",
            "Epoch 10/30\n",
            "177/177 [==============================] - 6s 33ms/step - loss: 0.2612 - accuracy: 0.9102 - val_loss: 0.2695 - val_accuracy: 0.9089\n",
            "Epoch 11/30\n",
            "177/177 [==============================] - 6s 33ms/step - loss: 0.2534 - accuracy: 0.9127 - val_loss: 0.2575 - val_accuracy: 0.9122\n",
            "Epoch 12/30\n",
            "177/177 [==============================] - 6s 33ms/step - loss: 0.2459 - accuracy: 0.9147 - val_loss: 0.2592 - val_accuracy: 0.9101\n",
            "Epoch 13/30\n",
            "177/177 [==============================] - 6s 33ms/step - loss: 0.2401 - accuracy: 0.9165 - val_loss: 0.2488 - val_accuracy: 0.9146\n",
            "Epoch 14/30\n",
            "177/177 [==============================] - 6s 33ms/step - loss: 0.2338 - accuracy: 0.9185 - val_loss: 0.2530 - val_accuracy: 0.9135\n",
            "Epoch 15/30\n",
            "177/177 [==============================] - 6s 33ms/step - loss: 0.2301 - accuracy: 0.9195 - val_loss: 0.2423 - val_accuracy: 0.9161\n",
            "Epoch 16/30\n",
            "177/177 [==============================] - 6s 33ms/step - loss: 0.2271 - accuracy: 0.9205 - val_loss: 0.2428 - val_accuracy: 0.9171\n",
            "Epoch 17/30\n",
            "177/177 [==============================] - 6s 33ms/step - loss: 0.2222 - accuracy: 0.9218 - val_loss: 0.2358 - val_accuracy: 0.9189\n",
            "Epoch 18/30\n",
            "177/177 [==============================] - 6s 33ms/step - loss: 0.2182 - accuracy: 0.9231 - val_loss: 0.2368 - val_accuracy: 0.9181\n",
            "Epoch 19/30\n",
            "177/177 [==============================] - 6s 33ms/step - loss: 0.2156 - accuracy: 0.9239 - val_loss: 0.2339 - val_accuracy: 0.9198\n",
            "Epoch 20/30\n",
            "177/177 [==============================] - 6s 33ms/step - loss: 0.2136 - accuracy: 0.9245 - val_loss: 0.2340 - val_accuracy: 0.9200\n",
            "Epoch 21/30\n",
            "177/177 [==============================] - 6s 33ms/step - loss: 0.2108 - accuracy: 0.9253 - val_loss: 0.2286 - val_accuracy: 0.9206\n",
            "Epoch 22/30\n",
            "177/177 [==============================] - 6s 33ms/step - loss: 0.2094 - accuracy: 0.9257 - val_loss: 0.2289 - val_accuracy: 0.9216\n",
            "Epoch 23/30\n",
            "177/177 [==============================] - 6s 33ms/step - loss: 0.2074 - accuracy: 0.9262 - val_loss: 0.2284 - val_accuracy: 0.9213\n",
            "Epoch 24/30\n",
            "177/177 [==============================] - 6s 33ms/step - loss: 0.2053 - accuracy: 0.9267 - val_loss: 0.2273 - val_accuracy: 0.9223\n",
            "Epoch 25/30\n",
            "177/177 [==============================] - 6s 33ms/step - loss: 0.2037 - accuracy: 0.9272 - val_loss: 0.2285 - val_accuracy: 0.9218\n",
            "Epoch 26/30\n",
            "177/177 [==============================] - 6s 33ms/step - loss: 0.2032 - accuracy: 0.9274 - val_loss: 0.2287 - val_accuracy: 0.9214\n",
            "Epoch 27/30\n",
            "177/177 [==============================] - 6s 33ms/step - loss: 0.2016 - accuracy: 0.9278 - val_loss: 0.2265 - val_accuracy: 0.9226\n",
            "Epoch 28/30\n",
            "177/177 [==============================] - 6s 33ms/step - loss: 0.1996 - accuracy: 0.9283 - val_loss: 0.2278 - val_accuracy: 0.9222\n",
            "Epoch 29/30\n",
            "177/177 [==============================] - 6s 33ms/step - loss: 0.1989 - accuracy: 0.9285 - val_loss: 0.2255 - val_accuracy: 0.9233\n",
            "Epoch 30/30\n",
            "177/177 [==============================] - 6s 33ms/step - loss: 0.1966 - accuracy: 0.9292 - val_loss: 0.2251 - val_accuracy: 0.9227\n"
          ]
        }
      ],
      "source": [
        "#Test Your Zaka\n",
        "history=model.fit(train_en_sent, train_fr_sent, batch_size=500, epochs=30, validation_split=0.2)"
      ]
    },
    {
      "cell_type": "markdown",
      "source": [
        "Define a function that gets an input sentence in english and gives the output sentence in the french language."
      ],
      "metadata": {
        "id": "9UoEcxyJztiQ"
      }
    },
    {
      "cell_type": "code",
      "source": [
        "def translate(text,en_tokenizer,fr_tokenizer,max_seq_length, model):\n",
        "  text=re.sub(r'[^\\w\\s]', '', text)\n",
        "\n",
        "  sentence = [en_tokenizer.word_index[word] for word in text.split()]\n",
        "  sentence = pad_sequences([sentence], maxlen=max_seq_length, padding='post')\n",
        "\n",
        "  result=model.predict(sentence[:1])[0]\n",
        "  index_to_words = {id: word for word, id in fr_tokenizer.word_index.items()}\n",
        "  index_to_words[0] = '<PAD>'\n",
        "  result=' '.join([index_to_words[prediction] for prediction in np.argmax(result, 1)])\n",
        "\n",
        "  result=result.split()\n",
        "\n",
        "  output=[]\n",
        "  for i in result:\n",
        "    if i !='<PAD>':\n",
        "      output.append(i)\n",
        "\n",
        "  return (' '.join(output))\n"
      ],
      "metadata": {
        "id": "Y4l9nnYQwkXF"
      },
      "execution_count": null,
      "outputs": []
    },
    {
      "cell_type": "markdown",
      "source": [
        "Test the following sentence"
      ],
      "metadata": {
        "id": "XUQIcAjWz3bt"
      }
    },
    {
      "cell_type": "code",
      "execution_count": null,
      "metadata": {
        "id": "fDmNqnZIQMko",
        "colab": {
          "base_uri": "https://localhost:8080/"
        },
        "outputId": "2028cf81-da9e-462f-fc9e-4dcb987cb63b"
      },
      "outputs": [
        {
          "output_type": "stream",
          "name": "stdout",
          "text": [
            "elle conduit le voiture bleu\n"
          ]
        }
      ],
      "source": [
        "input = \"she is driving the truck\"\n",
        "#Test Your Zaka\n",
        "\n",
        "result=translate(input,en_tokenizer,fr_tokenizer,max_seq_length, model)\n",
        "print(result)"
      ]
    },
    {
      "cell_type": "markdown",
      "source": [
        "Try to improve your model by modifying the architecture to take into account bidirectionality which is very useful in Machine Translation. Create a new model called model2"
      ],
      "metadata": {
        "id": "wdI2XhaBz6CN"
      }
    },
    {
      "cell_type": "code",
      "execution_count": null,
      "metadata": {
        "id": "Ch28BLsbGnCn",
        "colab": {
          "base_uri": "https://localhost:8080/"
        },
        "outputId": "6ddd103d-338b-4a85-b339-e90bb3fd6359"
      },
      "outputs": [
        {
          "output_type": "stream",
          "name": "stdout",
          "text": [
            "Model: \"sequential_3\"\n",
            "_________________________________________________________________\n",
            " Layer (type)                Output Shape              Param #   \n",
            "=================================================================\n",
            " embedding_3 (Embedding)     (None, 21, 256)           51456     \n",
            "                                                                 \n",
            " bidirectional_2 (Bidirectio  (None, 256)              394240    \n",
            " nal)                                                            \n",
            "                                                                 \n",
            " repeat_vector_1 (RepeatVect  (None, 21, 256)          0         \n",
            " or)                                                             \n",
            "                                                                 \n",
            " bidirectional_3 (Bidirectio  (None, 21, 256)          394240    \n",
            " nal)                                                            \n",
            "                                                                 \n",
            " time_distributed_6 (TimeDis  (None, 21, 1024)         263168    \n",
            " tributed)                                                       \n",
            "                                                                 \n",
            " time_distributed_7 (TimeDis  (None, 21, 344)          352600    \n",
            " tributed)                                                       \n",
            "                                                                 \n",
            "=================================================================\n",
            "Total params: 1,455,704\n",
            "Trainable params: 1,455,704\n",
            "Non-trainable params: 0\n",
            "_________________________________________________________________\n"
          ]
        }
      ],
      "source": [
        "# Build the layers    \n",
        "model2 = Sequential()\n",
        "# Embedding\n",
        "model2.add(Embedding(eng_vocab_size, 256, input_length=train_en_sent.shape[1],\n",
        "                      input_shape=train_en_sent.shape[1:]))\n",
        "# Encoder\n",
        "model2.add(Bidirectional(LSTM(128)))\n",
        "model2.add(RepeatVector(max_seq_length))\n",
        "# Decoder\n",
        "model2.add(Bidirectional(LSTM(128, return_sequences=True)))\n",
        "model2.add(TimeDistributed(Dense(1024, activation='relu')))\n",
        "model2.add(TimeDistributed(Dense(fr_vocab_size, activation='softmax')))\n",
        "model2.compile(loss=sparse_categorical_crossentropy,\n",
        "              optimizer='adam',\n",
        "              metrics=['accuracy'])\n",
        "\n",
        "model2.summary()"
      ]
    },
    {
      "cell_type": "markdown",
      "source": [
        "compile and train your new model."
      ],
      "metadata": {
        "id": "EHDvxt9L0C21"
      }
    },
    {
      "cell_type": "code",
      "execution_count": null,
      "metadata": {
        "id": "iK1QvVmaTWI2",
        "colab": {
          "base_uri": "https://localhost:8080/"
        },
        "outputId": "f10fa1cd-2d1a-4ff5-a77d-d75bb2d472cf"
      },
      "outputs": [
        {
          "output_type": "stream",
          "name": "stdout",
          "text": [
            "Epoch 1/30\n",
            "177/177 [==============================] - 15s 56ms/step - loss: 2.1702 - accuracy: 0.5241 - val_loss: 1.4281 - val_accuracy: 0.6109\n",
            "Epoch 2/30\n",
            "177/177 [==============================] - 8s 43ms/step - loss: 1.2530 - accuracy: 0.6554 - val_loss: 1.1186 - val_accuracy: 0.6915\n",
            "Epoch 3/30\n",
            "177/177 [==============================] - 8s 45ms/step - loss: 1.0123 - accuracy: 0.7152 - val_loss: 0.9101 - val_accuracy: 0.7403\n",
            "Epoch 4/30\n",
            "177/177 [==============================] - 7s 42ms/step - loss: 0.8474 - accuracy: 0.7526 - val_loss: 0.7649 - val_accuracy: 0.7760\n",
            "Epoch 5/30\n",
            "177/177 [==============================] - 8s 43ms/step - loss: 0.7026 - accuracy: 0.7895 - val_loss: 0.6300 - val_accuracy: 0.8093\n",
            "Epoch 6/30\n",
            "177/177 [==============================] - 8s 43ms/step - loss: 0.5687 - accuracy: 0.8278 - val_loss: 0.5237 - val_accuracy: 0.8416\n",
            "Epoch 7/30\n",
            "177/177 [==============================] - 8s 43ms/step - loss: 0.4567 - accuracy: 0.8624 - val_loss: 0.4171 - val_accuracy: 0.8740\n",
            "Epoch 8/30\n",
            "177/177 [==============================] - 8s 43ms/step - loss: 0.3749 - accuracy: 0.8866 - val_loss: 0.3465 - val_accuracy: 0.8951\n",
            "Epoch 9/30\n",
            "177/177 [==============================] - 8s 45ms/step - loss: 0.3044 - accuracy: 0.9087 - val_loss: 0.2749 - val_accuracy: 0.9181\n",
            "Epoch 10/30\n",
            "177/177 [==============================] - 8s 45ms/step - loss: 0.2549 - accuracy: 0.9231 - val_loss: 0.2413 - val_accuracy: 0.9258\n",
            "Epoch 11/30\n",
            "177/177 [==============================] - 8s 45ms/step - loss: 0.2169 - accuracy: 0.9341 - val_loss: 0.2113 - val_accuracy: 0.9345\n",
            "Epoch 12/30\n",
            "177/177 [==============================] - 8s 43ms/step - loss: 0.1972 - accuracy: 0.9392 - val_loss: 0.1988 - val_accuracy: 0.9385\n",
            "Epoch 13/30\n",
            "177/177 [==============================] - 8s 43ms/step - loss: 0.1734 - accuracy: 0.9467 - val_loss: 0.1737 - val_accuracy: 0.9461\n",
            "Epoch 14/30\n",
            "177/177 [==============================] - 7s 42ms/step - loss: 0.1576 - accuracy: 0.9516 - val_loss: 0.1686 - val_accuracy: 0.9475\n",
            "Epoch 15/30\n",
            "177/177 [==============================] - 8s 44ms/step - loss: 0.1436 - accuracy: 0.9558 - val_loss: 0.1473 - val_accuracy: 0.9545\n",
            "Epoch 16/30\n",
            "177/177 [==============================] - 8s 44ms/step - loss: 0.1323 - accuracy: 0.9593 - val_loss: 0.1454 - val_accuracy: 0.9540\n",
            "Epoch 17/30\n",
            "177/177 [==============================] - 8s 43ms/step - loss: 0.1532 - accuracy: 0.9515 - val_loss: 0.1384 - val_accuracy: 0.9568\n",
            "Epoch 18/30\n",
            "177/177 [==============================] - 8s 43ms/step - loss: 0.1107 - accuracy: 0.9661 - val_loss: 0.1248 - val_accuracy: 0.9612\n",
            "Epoch 19/30\n",
            "177/177 [==============================] - 8s 43ms/step - loss: 0.1041 - accuracy: 0.9681 - val_loss: 0.1171 - val_accuracy: 0.9636\n",
            "Epoch 20/30\n",
            "177/177 [==============================] - 8s 43ms/step - loss: 0.0991 - accuracy: 0.9695 - val_loss: 0.1114 - val_accuracy: 0.9658\n",
            "Epoch 21/30\n",
            "177/177 [==============================] - 8s 43ms/step - loss: 0.0944 - accuracy: 0.9709 - val_loss: 0.1094 - val_accuracy: 0.9661\n",
            "Epoch 22/30\n",
            "177/177 [==============================] - 8s 43ms/step - loss: 0.0888 - accuracy: 0.9725 - val_loss: 0.1086 - val_accuracy: 0.9666\n",
            "Epoch 23/30\n",
            "177/177 [==============================] - 8s 42ms/step - loss: 0.0842 - accuracy: 0.9740 - val_loss: 0.0986 - val_accuracy: 0.9704\n",
            "Epoch 24/30\n",
            "177/177 [==============================] - 8s 44ms/step - loss: 0.0805 - accuracy: 0.9754 - val_loss: 0.0988 - val_accuracy: 0.9697\n",
            "Epoch 25/30\n",
            "177/177 [==============================] - 8s 43ms/step - loss: 0.0757 - accuracy: 0.9766 - val_loss: 0.0930 - val_accuracy: 0.9712\n",
            "Epoch 26/30\n",
            "177/177 [==============================] - 8s 43ms/step - loss: 0.0710 - accuracy: 0.9781 - val_loss: 0.0983 - val_accuracy: 0.9712\n",
            "Epoch 27/30\n",
            "177/177 [==============================] - 8s 42ms/step - loss: 0.0705 - accuracy: 0.9784 - val_loss: 0.0973 - val_accuracy: 0.9708\n",
            "Epoch 28/30\n",
            "177/177 [==============================] - 8s 43ms/step - loss: 0.0654 - accuracy: 0.9799 - val_loss: 0.0883 - val_accuracy: 0.9742\n",
            "Epoch 29/30\n",
            "177/177 [==============================] - 8s 42ms/step - loss: 0.0640 - accuracy: 0.9804 - val_loss: 0.0905 - val_accuracy: 0.9730\n",
            "Epoch 30/30\n",
            "177/177 [==============================] - 8s 43ms/step - loss: 0.0590 - accuracy: 0.9820 - val_loss: 0.0857 - val_accuracy: 0.9748\n"
          ]
        }
      ],
      "source": [
        "#Test Your Zaka\n",
        "# Compile model\n",
        "model2.compile(loss=sparse_categorical_crossentropy,\n",
        "                optimizer='adam',\n",
        "                metrics=['accuracy'])\n",
        "# fit\n",
        "history2=model2.fit(train_en_sent, train_fr_sent, batch_size=500, epochs=30, validation_split=0.2)"
      ]
    },
    {
      "cell_type": "markdown",
      "source": [
        "Define a new function that relies on your new model to make predictions."
      ],
      "metadata": {
        "id": "CkpOI2JI0GBx"
      }
    },
    {
      "cell_type": "code",
      "execution_count": null,
      "metadata": {
        "id": "Gulu8OiXTbae"
      },
      "outputs": [],
      "source": [
        "#Test Your Zaka\n",
        "# same function as above\n",
        "model2.save('/content/machine_learning_certification/Challenge 7/En_Fr_Translation.h5')"
      ]
    },
    {
      "cell_type": "code",
      "source": [
        "#Test Your Zaka\n",
        "\n",
        "input = \"she is driving the truck\"\n",
        "\n",
        "print(translate(input,en_tokenizer,fr_tokenizer,max_seq_length, model2))\n",
        "\n",
        "print(\"Other Examples \\n\")\n",
        "count=0\n",
        "for i in x_test:\n",
        "  print(\"Original\\n\", i)\n",
        "  print(\"Translated\")\n",
        "  print(translate(i,en_tokenizer,fr_tokenizer,max_seq_length, model2))\n",
        "  print(\"\\n\")\n",
        "  count+=1\n",
        "  if count>15:\n",
        "    break"
      ],
      "metadata": {
        "id": "8CO0pO6-UAeE",
        "colab": {
          "base_uri": "https://localhost:8080/"
        },
        "outputId": "23b31a15-3b1f-4681-e9c5-8b539e8f9ee9"
      },
      "execution_count": null,
      "outputs": [
        {
          "output_type": "stream",
          "name": "stdout",
          "text": [
            "elle conduit le camion noir\n",
            "Other Examples\n",
            "Original \n",
            " china is usually busy during september  but it is sometimes cold in spring \n",
            "Translated\n",
            "chine est généralement occupé en septembre mais il est parfois froid au printemps\n",
            " \n",
            "\n",
            "Original \n",
            " he dislikes pears and peaches \n",
            "Translated\n",
            "il naime les les poires et les pêches\n",
            " \n",
            "\n",
            "Original \n",
            " the united states is sometimes rainy during january  but it is mild in may \n",
            "Translated\n",
            "les étatsunis est parfois pluvieux en janvier mais il est doux en mai\n",
            " \n",
            "\n",
            "Original \n",
            " california is mild during march  but it is sometimes rainy in october \n",
            "Translated\n",
            "california est doux au mois de mars mais il est parfois pluvieux en octobre\n",
            " \n",
            "\n",
            "Original \n",
            " he dislikes mangoes and strawberries \n",
            "Translated\n",
            "il aime pas les mangues et les\n",
            " \n",
            "\n",
            "Original \n",
            " the grapefruit is her favorite fruit  but the lemon is your favorite \n",
            "Translated\n",
            "le pamplemousse est son fruit préféré mais le citron est votre favori\n",
            " \n",
            "\n",
            "Original \n",
            " i think translating between english and portuguese is easy \n",
            "Translated\n",
            "je pense que la traduction entre l anglais et le le est difficile\n",
            " \n",
            "\n",
            "Original \n",
            " your most loved fruit is the apple  but his most loved is the peach \n",
            "Translated\n",
            "votre fruit le plus aimé est la pomme mais son plus aimé est la pêche\n",
            " \n",
            "\n",
            "Original \n",
            " the united states is cold during winter  and it is sometimes relaxing in june \n",
            "Translated\n",
            "les étatsunis est froid pendant l hiver et il est parfois relaxant en juin\n",
            " \n",
            "\n",
            "Original \n",
            " our most loved fruit is the apple  but my most loved is the pear \n",
            "Translated\n",
            "nos fruits le plus aimé est la pomme mais mon plus aimé est la poire\n",
            " \n",
            "\n",
            "Original \n",
            " china is beautiful during february  and it is wet in fall \n",
            "Translated\n",
            "chine est belle en février et il est humide à l automne\n",
            " \n",
            "\n",
            "Original \n",
            " china is snowy during july  but it is sometimes beautiful in august \n",
            "Translated\n",
            "chine est enneigée en juillet mais il est parfois beau en août\n",
            " \n",
            "\n",
            "Original \n",
            " france is sometimes cold during august  and it is sometimes wonderful in july \n",
            "Translated\n",
            "la france est parfois froid au mois d août et il est parfois merveilleux en juillet\n",
            " \n",
            "\n",
            "Original \n",
            " she drives a rusty white truck \n",
            "Translated\n",
            "elle conduit un camion blanc rouillé\n",
            " \n",
            "\n",
            "Original \n",
            " the shark is his most loved animal \n",
            "Translated\n",
            "le requin est son animal plus plus aimé\n",
            " \n",
            "\n",
            "Original \n",
            " my favorite fruit is the grapefruit  but their favorite is the pear \n",
            "Translated\n",
            "mon fruit préféré est le pamplemousse mais leur favori est la poire\n",
            " \n",
            "\n"
          ]
        }
      ]
    },
    {
      "cell_type": "markdown",
      "source": [
        "**What is another adjustment in terms of architecture that you might be able to do to improve your model?**"
      ],
      "metadata": {
        "id": "YGeXrjqbZen7"
      }
    },
    {
      "cell_type": "markdown",
      "source": [
        "Adding attention layer would improve model's performance.The attention layer allows the decoder to focus on the parts of the sequence needed for getting the output correct at that time step therefore shortening the path between the input word to its translation, thereby alleviating some of the memory limitations that LSTMs can have. It does this by providing a way of scoring tokens in the target sequence against all the tokens on the source sequence and using this to change the input to the decoder sequence. The scores are then fed into a softmax activation to make a attention distribution."
      ],
      "metadata": {
        "id": "bekjOkjbZlBf"
      }
    },
    {
      "cell_type": "markdown",
      "source": [
        "**What are some additional ways that we can do to improve the performance of our model?**"
      ],
      "metadata": {
        "id": "pnIN2lD2tn05"
      }
    },
    {
      "cell_type": "markdown",
      "source": [
        "We can do hyperparamater tuning (nb of layers, nb of neurons, optimizer, learning rate etc.) to choose the optimal paramters that would leverage the performance of our model. "
      ],
      "metadata": {
        "id": "s7_MCCbQt3uq"
      }
    },
    {
      "cell_type": "code",
      "source": [
        "###Demo\n",
        "# First, install Gradio\n",
        "!pip install --quiet gradio\n",
        "import gradio as gr"
      ],
      "metadata": {
        "id": "_cA93K-TUbcR"
      },
      "execution_count": null,
      "outputs": []
    },
    {
      "cell_type": "code",
      "source": [
        ""
      ],
      "metadata": {
        "id": "mgRbmnS10T_P"
      },
      "execution_count": null,
      "outputs": []
    },
    {
      "cell_type": "code",
      "source": [
        "import tensorflow as tf\n",
        "import re\n",
        "\n",
        "def En_Fr_Translator(text):\n",
        "    text=re.sub(r'[^\\w\\s]', '', text)\n",
        "    tr_model = tf.keras.models.load_model('/content/machine_learning_certification/Challenge 7/En_Fr_Translation.h5')\n",
        "    sentence = [en_tokenizer.word_index[word] for word in text.split()]\n",
        "    sentence = pad_sequences([sentence], maxlen=max_seq_length, padding='post')\n",
        "\n",
        "    result=tr_model.predict(sentence[:1])[0]\n",
        "    index_to_words = {id: word for word, id in fr_tokenizer.word_index.items()}\n",
        "    index_to_words[0] = '<PAD>'\n",
        "    result=' '.join([index_to_words[prediction] for prediction in np.argmax(result, 1)])\n",
        "    output=[]\n",
        "    for i in result:\n",
        "      if i != '<PAD>':\n",
        "        output.append(i)\n",
        "\n",
        "    output=' '.join(output)\n",
        "    return output\n",
        "\n",
        "translator_gui=gr.Interface(fn=En_Fr_Translator, inputs=\"text\", outputs='text',title=\"En_Fr_Translation\")\n",
        "\n",
        "translator_gui.launch(share=True);\n",
        "\n"
      ],
      "metadata": {
        "colab": {
          "base_uri": "https://localhost:8080/",
          "height": 591
        },
        "id": "CvMFwWUwlSQ3",
        "outputId": "40069453-a093-4127-929e-b5604c43602f"
      },
      "execution_count": null,
      "outputs": [
        {
          "output_type": "stream",
          "name": "stdout",
          "text": [
            "Colab notebook detected. To show errors in colab notebook, set `debug=True` in `launch()`\n",
            "Running on public URL: https://37022.gradio.app\n",
            "\n",
            "This share link expires in 72 hours. For free permanent hosting, check out Spaces (https://huggingface.co/spaces)\n"
          ]
        },
        {
          "output_type": "display_data",
          "data": {
            "text/plain": [
              "<IPython.lib.display.IFrame at 0x7f067bf2e0d0>"
            ],
            "text/html": [
              "\n",
              "        <iframe\n",
              "            width=\"900\"\n",
              "            height=\"500\"\n",
              "            src=\"https://37022.gradio.app\"\n",
              "            frameborder=\"0\"\n",
              "            allowfullscreen\n",
              "        ></iframe>\n",
              "        "
            ]
          },
          "metadata": {}
        }
      ]
    }
  ],
  "metadata": {
    "colab": {
      "name": "Machine Translation (ENG-FR).ipynb",
      "provenance": [],
      "collapsed_sections": []
    },
    "kernelspec": {
      "display_name": "Python 3",
      "name": "python3"
    },
    "language_info": {
      "name": "python"
    },
    "accelerator": "GPU"
  },
  "nbformat": 4,
  "nbformat_minor": 0
}